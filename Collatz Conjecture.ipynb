{
 "cells": [
  {
   "cell_type": "markdown",
   "metadata": {},
   "source": [
    "Collatz Conjecture Algorithm:\n",
    "Input--number\n",
    "Return--number of steps to get to 1"
   ]
  },
  {
   "cell_type": "code",
   "execution_count": 19,
   "metadata": {},
   "outputs": [],
   "source": [
    "def collatz(num):\n",
    "    count = 0\n",
    "    while num != 1:\n",
    "        if num % 2 == 0:\n",
    "            num = num / 2\n",
    "            if num == 1:\n",
    "                break\n",
    "            count += 1\n",
    "            \n",
    "        if num % 2 == 1:\n",
    "            num = 3*num + 1\n",
    "            if num == 1:\n",
    "                break\n",
    "            count += 1\n",
    "    return count "
   ]
  },
  {
   "cell_type": "code",
   "execution_count": 23,
   "metadata": {},
   "outputs": [
    {
     "data": {
      "text/plain": [
       "6"
      ]
     },
     "execution_count": 23,
     "metadata": {},
     "output_type": "execute_result"
    }
   ],
   "source": [
    "collatz(3)"
   ]
  },
  {
   "cell_type": "code",
   "execution_count": null,
   "metadata": {
    "collapsed": true
   },
   "outputs": [],
   "source": []
  }
 ],
 "metadata": {
  "kernelspec": {
   "display_name": "Python 2",
   "language": "python",
   "name": "python2"
  }
 },
 "nbformat": 4,
 "nbformat_minor": 2
}
